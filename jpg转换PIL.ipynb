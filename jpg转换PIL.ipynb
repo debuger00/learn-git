{
 "cells": [
  {
   "cell_type": "code",
   "execution_count": null,
   "metadata": {},
   "outputs": [],
   "source": [
    "from PIL import Image\n",
    "\n",
    "# 打开JPG图像\n",
    "jpg_image = Image.open(\"p\")\n",
    "\n",
    "# 保存为其他格式，比如PNG\n",
    "jpg_image.save(\"path/to/save/image.png\")\n",
    "\n",
    "# 保存为另一个JPG文件（可以修改压缩质量）\n",
    "jpg_image.save(\"path/to/save/another_image.jpg\", quality=95)\n"
   ]
  }
 ],
 "metadata": {
  "language_info": {
   "name": "python"
  }
 },
 "nbformat": 4,
 "nbformat_minor": 2
}
